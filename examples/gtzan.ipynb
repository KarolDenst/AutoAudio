{
 "cells": [
  {
   "cell_type": "markdown",
   "metadata": {},
   "source": [
    "### Description\n",
    "This Notebook shows how to train and use the library for music genre classification."
   ]
  },
  {
   "cell_type": "markdown",
   "metadata": {},
   "source": [
    "### Download data\n",
    "For this part you will need to have kaggle installed. `pip install kaggle`.\n",
    "Alternativaly you could download the dataset from `https://www.kaggle.com/datasets/andradaolteanu/gtzan-dataset-music-genre-classification` and manually extract it into `../data/gtzan-dataset-music-genre-classification`"
   ]
  },
  {
   "cell_type": "code",
   "execution_count": 1,
   "metadata": {},
   "outputs": [
    {
     "name": "stdout",
     "output_type": "stream",
     "text": [
      "Dataset already exists.\n"
     ]
    }
   ],
   "source": [
    "import os\n",
    "import subprocess\n",
    "\n",
    "dataset_path = \"data/gtzan-dataset-music-genre-classification\"\n",
    "\n",
    "if not os.path.exists(dataset_path):\n",
    "    print(\"Dataset not found. Downloading...\")\n",
    "    os.makedirs(dataset_path, exist_ok=True)\n",
    "    subprocess.run([\"kaggle\", \"datasets\", \"download\", \"-d\", \"andradaolteanu/gtzan-dataset-music-genre-classification\", \"-p\", dataset_path, \"--unzip\"])\n",
    "    print(\"Download complete.\")\n",
    "else:\n",
    "    print(\"Dataset already exists.\")"
   ]
  },
  {
   "cell_type": "markdown",
   "metadata": {},
   "source": [
    "### Data format\n",
    "We first have to create a dataframe which stores all the data (file paths and labels)"
   ]
  },
  {
   "cell_type": "code",
   "execution_count": 2,
   "metadata": {},
   "outputs": [],
   "source": [
    "import pandas as pd"
   ]
  },
  {
   "cell_type": "code",
   "execution_count": 3,
   "metadata": {},
   "outputs": [
    {
     "data": {
      "text/html": [
       "<div>\n",
       "<style scoped>\n",
       "    .dataframe tbody tr th:only-of-type {\n",
       "        vertical-align: middle;\n",
       "    }\n",
       "\n",
       "    .dataframe tbody tr th {\n",
       "        vertical-align: top;\n",
       "    }\n",
       "\n",
       "    .dataframe thead th {\n",
       "        text-align: right;\n",
       "    }\n",
       "</style>\n",
       "<table border=\"1\" class=\"dataframe\">\n",
       "  <thead>\n",
       "    <tr style=\"text-align: right;\">\n",
       "      <th></th>\n",
       "      <th>file_path</th>\n",
       "      <th>label</th>\n",
       "    </tr>\n",
       "  </thead>\n",
       "  <tbody>\n",
       "    <tr>\n",
       "      <th>573</th>\n",
       "      <td>data/gtzan-dataset-music-genre-classification\\...</td>\n",
       "      <td>jazz</td>\n",
       "    </tr>\n",
       "    <tr>\n",
       "      <th>482</th>\n",
       "      <td>data/gtzan-dataset-music-genre-classification\\...</td>\n",
       "      <td>hiphop</td>\n",
       "    </tr>\n",
       "    <tr>\n",
       "      <th>513</th>\n",
       "      <td>data/gtzan-dataset-music-genre-classification\\...</td>\n",
       "      <td>jazz</td>\n",
       "    </tr>\n",
       "    <tr>\n",
       "      <th>470</th>\n",
       "      <td>data/gtzan-dataset-music-genre-classification\\...</td>\n",
       "      <td>hiphop</td>\n",
       "    </tr>\n",
       "    <tr>\n",
       "      <th>81</th>\n",
       "      <td>data/gtzan-dataset-music-genre-classification\\...</td>\n",
       "      <td>blues</td>\n",
       "    </tr>\n",
       "  </tbody>\n",
       "</table>\n",
       "</div>"
      ],
      "text/plain": [
       "                                             file_path   label\n",
       "573  data/gtzan-dataset-music-genre-classification\\...    jazz\n",
       "482  data/gtzan-dataset-music-genre-classification\\...  hiphop\n",
       "513  data/gtzan-dataset-music-genre-classification\\...    jazz\n",
       "470  data/gtzan-dataset-music-genre-classification\\...  hiphop\n",
       "81   data/gtzan-dataset-music-genre-classification\\...   blues"
      ]
     },
     "execution_count": 3,
     "metadata": {},
     "output_type": "execute_result"
    }
   ],
   "source": [
    "genres_path = os.path.join(dataset_path, \"Data/genres_original\")\n",
    "paths = []\n",
    "labels = []\n",
    "for genre in os.listdir(genres_path):\n",
    "    folder_path = os.path.join(genres_path, genre)\n",
    "    for filename in os.listdir(folder_path):\n",
    "        paths.append(os.path.join(folder_path, filename))\n",
    "        labels.append(genre)\n",
    "df = pd.DataFrame({\"file_path\": paths, \"label\": labels})\n",
    "df.sample(5)"
   ]
  },
  {
   "cell_type": "markdown",
   "metadata": {},
   "source": [
    "Import library"
   ]
  },
  {
   "cell_type": "code",
   "execution_count": 24,
   "metadata": {},
   "outputs": [],
   "source": [
    "import sys\n",
    "import os\n",
    "sys.path.insert(0, os.path.abspath('../src'))\n",
    "sys.path.insert(0, os.path.abspath('../'))"
   ]
  },
  {
   "cell_type": "markdown",
   "metadata": {},
   "source": [
    "### Model training"
   ]
  },
  {
   "cell_type": "code",
   "execution_count": null,
   "metadata": {},
   "outputs": [
    {
     "ename": "NameError",
     "evalue": "name 'AutoAudioModel' is not defined",
     "output_type": "error",
     "traceback": [
      "\u001b[1;31m---------------------------------------------------------------------------\u001b[0m",
      "\u001b[1;31mNameError\u001b[0m                                 Traceback (most recent call last)",
      "Cell \u001b[1;32mIn[26], line 7\u001b[0m\n\u001b[0;32m      5\u001b[0m df_test \u001b[38;5;241m=\u001b[39m df\u001b[38;5;241m.\u001b[39msample(\u001b[38;5;241m100\u001b[39m, random_state\u001b[38;5;241m=\u001b[39m\u001b[38;5;241m42\u001b[39m)\n\u001b[0;32m      6\u001b[0m tuner \u001b[38;5;241m=\u001b[39m HyperparameterTuner(search_method\u001b[38;5;241m=\u001b[39m\u001b[38;5;124m\"\u001b[39m\u001b[38;5;124mrandom\u001b[39m\u001b[38;5;124m\"\u001b[39m, n_iter\u001b[38;5;241m=\u001b[39m\u001b[38;5;241m10\u001b[39m)\n\u001b[1;32m----> 7\u001b[0m model \u001b[38;5;241m=\u001b[39m \u001b[43mAutoAudioModel\u001b[49m()\n\u001b[0;32m      8\u001b[0m model\u001b[38;5;241m.\u001b[39mfit(df_train, \u001b[38;5;241m500\u001b[39m, tuner)\n",
      "\u001b[1;31mNameError\u001b[0m: name 'AutoAudioModel' is not defined"
     ]
    }
   ],
   "source": [
    "from auto_audio.auto_audio_model import AutoAudioModel\n",
    "from hyperparameter_tuner import HyperparameterTuner\n",
    "\n",
    "\n",
    "df_train = df.sample(200, random_state=42)\n",
    "df_test = df.sample(100, random_state=42)\n",
    "tuner = HyperparameterTuner(search_method=\"random\", n_iter=10)\n",
    "model = AutoAudioModel()\n",
    "model.fit(df_train, 500, tuner)"
   ]
  },
  {
   "cell_type": "code",
   "execution_count": null,
   "metadata": {},
   "outputs": [],
   "source": [
    "from sklearn.metrics import confusion_matrix, ConfusionMatrixDisplay, accuracy_score\n",
    "import matplotlib.pyplot as plt\n",
    "import numpy as np\n",
    "\n",
    "y_test = df_test[\"label\"]\n",
    "y_pred = model.predict(df_test)\n",
    "\n",
    "accuracy = accuracy_score(y_test, y_pred)\n",
    "print(f\"Model Accuracy: {accuracy:.2f}\")\n",
    "\n",
    "cm = confusion_matrix(y_test, y_pred, labels=np.unique(y_test))\n",
    "disp = ConfusionMatrixDisplay(confusion_matrix=cm, display_labels=np.unique(y_test))\n",
    "disp.plot()\n",
    "plt.xticks(rotation=90)\n",
    "plt.show()"
   ]
  }
 ],
 "metadata": {
  "kernelspec": {
   "display_name": "Python 3",
   "language": "python",
   "name": "python3"
  },
  "language_info": {
   "codemirror_mode": {
    "name": "ipython",
    "version": 3
   },
   "file_extension": ".py",
   "mimetype": "text/x-python",
   "name": "python",
   "nbconvert_exporter": "python",
   "pygments_lexer": "ipython3",
   "version": "3.11.8"
  }
 },
 "nbformat": 4,
 "nbformat_minor": 2
}
