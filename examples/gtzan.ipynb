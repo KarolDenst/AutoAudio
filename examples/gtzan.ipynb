{
 "cells": [
  {
   "cell_type": "markdown",
   "metadata": {},
   "source": [
    "### Description\n",
    "This Notebook shows how to train and use the library for music genre classification."
   ]
  },
  {
   "cell_type": "markdown",
   "metadata": {},
   "source": [
    "### Download data\n",
    "For this part you will need to have kaggle installed. `pip install kaggle`.\n",
    "Alternativaly you could download the dataset from `https://www.kaggle.com/datasets/andradaolteanu/gtzan-dataset-music-genre-classification` and manually extract it into `../data/gtzan-dataset-music-genre-classification`"
   ]
  },
  {
   "cell_type": "code",
   "execution_count": 1,
   "metadata": {},
   "outputs": [
    {
     "name": "stdout",
     "output_type": "stream",
     "text": [
      "Dataset already exists.\n"
     ]
    }
   ],
   "source": [
    "import os\n",
    "import subprocess\n",
    "\n",
    "dataset_path = \"data/gtzan-dataset-music-genre-classification\"\n",
    "\n",
    "if not os.path.exists(dataset_path):\n",
    "    print(\"Dataset not found. Downloading...\")\n",
    "    os.makedirs(dataset_path, exist_ok=True)\n",
    "    subprocess.run([\"kaggle\", \"datasets\", \"download\", \"-d\", \"andradaolteanu/gtzan-dataset-music-genre-classification\", \"-p\", dataset_path, \"--unzip\"])\n",
    "    print(\"Download complete.\")\n",
    "else:\n",
    "    print(\"Dataset already exists.\")"
   ]
  },
  {
   "cell_type": "markdown",
   "metadata": {},
   "source": [
    "### Data format\n",
    "We first have to create a dataframe which stores all the data (file paths and labels)"
   ]
  },
  {
   "cell_type": "code",
   "execution_count": 2,
   "metadata": {},
   "outputs": [],
   "source": [
    "import pandas as pd"
   ]
  },
  {
   "cell_type": "code",
   "execution_count": 3,
   "metadata": {},
   "outputs": [
    {
     "data": {
      "text/html": [
       "<div>\n",
       "<style scoped>\n",
       "    .dataframe tbody tr th:only-of-type {\n",
       "        vertical-align: middle;\n",
       "    }\n",
       "\n",
       "    .dataframe tbody tr th {\n",
       "        vertical-align: top;\n",
       "    }\n",
       "\n",
       "    .dataframe thead th {\n",
       "        text-align: right;\n",
       "    }\n",
       "</style>\n",
       "<table border=\"1\" class=\"dataframe\">\n",
       "  <thead>\n",
       "    <tr style=\"text-align: right;\">\n",
       "      <th></th>\n",
       "      <th>file_path</th>\n",
       "      <th>label</th>\n",
       "    </tr>\n",
       "  </thead>\n",
       "  <tbody>\n",
       "    <tr>\n",
<<<<<<< HEAD
       "      <th>575</th>\n",
=======
       "      <th>395</th>\n",
       "      <td>data/gtzan-dataset-music-genre-classification\\...</td>\n",
       "      <td>disco</td>\n",
       "    </tr>\n",
       "    <tr>\n",
       "      <th>136</th>\n",
       "      <td>data/gtzan-dataset-music-genre-classification\\...</td>\n",
       "      <td>classical</td>\n",
       "    </tr>\n",
       "    <tr>\n",
       "      <th>179</th>\n",
>>>>>>> main
       "      <td>data/gtzan-dataset-music-genre-classification\\...</td>\n",
       "      <td>classical</td>\n",
       "    </tr>\n",
       "    <tr>\n",
<<<<<<< HEAD
       "      <th>307</th>\n",
       "      <td>data/gtzan-dataset-music-genre-classification\\...</td>\n",
       "      <td>disco</td>\n",
       "    </tr>\n",
       "    <tr>\n",
       "      <th>847</th>\n",
=======
       "      <th>63</th>\n",
>>>>>>> main
       "      <td>data/gtzan-dataset-music-genre-classification\\...</td>\n",
       "      <td>reggae</td>\n",
       "    </tr>\n",
       "    <tr>\n",
       "      <th>154</th>\n",
       "      <td>data/gtzan-dataset-music-genre-classification\\...</td>\n",
       "      <td>classical</td>\n",
       "    </tr>\n",
       "    <tr>\n",
       "      <th>362</th>\n",
       "      <td>data/gtzan-dataset-music-genre-classification\\...</td>\n",
       "      <td>disco</td>\n",
       "    </tr>\n",
       "    <tr>\n",
       "      <th>918</th>\n",
       "      <td>data/gtzan-dataset-music-genre-classification\\...</td>\n",
       "      <td>rock</td>\n",
       "    </tr>\n",
       "  </tbody>\n",
       "</table>\n",
       "</div>"
      ],
      "text/plain": [
       "                                             file_path      label\n",
<<<<<<< HEAD
       "575  data/gtzan-dataset-music-genre-classification\\...       jazz\n",
       "307  data/gtzan-dataset-music-genre-classification\\...      disco\n",
       "847  data/gtzan-dataset-music-genre-classification\\...     reggae\n",
       "154  data/gtzan-dataset-music-genre-classification\\...  classical\n",
       "362  data/gtzan-dataset-music-genre-classification\\...      disco"
=======
       "395  data/gtzan-dataset-music-genre-classification\\...      disco\n",
       "136  data/gtzan-dataset-music-genre-classification\\...  classical\n",
       "179  data/gtzan-dataset-music-genre-classification\\...  classical\n",
       "63   data/gtzan-dataset-music-genre-classification\\...      blues\n",
       "918  data/gtzan-dataset-music-genre-classification\\...       rock"
>>>>>>> main
      ]
     },
     "execution_count": 3,
     "metadata": {},
     "output_type": "execute_result"
    }
   ],
   "source": [
    "genres_path = os.path.join(dataset_path, \"Data/genres_original\")\n",
    "paths = []\n",
    "labels = []\n",
    "for genre in os.listdir(genres_path):\n",
    "    folder_path = os.path.join(genres_path, genre)\n",
    "    for filename in os.listdir(folder_path):\n",
    "        paths.append(os.path.join(folder_path, filename))\n",
    "        labels.append(genre)\n",
    "df = pd.DataFrame({\"file_path\": paths, \"label\": labels})\n",
    "df.sample(5)"
   ]
  },
  {
   "cell_type": "markdown",
   "metadata": {},
   "source": [
    "### Model training"
   ]
  },
  {
   "cell_type": "code",
   "execution_count": 10,
   "metadata": {},
   "outputs": [
    {
     "name": "stdout",
     "output_type": "stream",
     "text": [
      "Preprocessing audio files.\n"
     ]
    },
    {
     "name": "stderr",
     "output_type": "stream",
     "text": [
<<<<<<< HEAD
      "c:\\repos\\AutoAudio\\src\\preprocessing.py:54: UserWarning: PySoundFile failed. Trying audioread instead.\n",
      "  y, sr = librosa.load(file_path, sr=sr)\n",
      "c:\\Users\\borek\\AppData\\Local\\Programs\\Python\\Python311\\Lib\\site-packages\\librosa\\core\\audio.py:184: FutureWarning: librosa.core.audio.__audioread_load\n",
=======
      "C:\\Projects\\AutoAudio\\auto_audio\\preprocessing.py:54: UserWarning: PySoundFile failed. Trying audioread instead.\n",
      "  y, sr = librosa.load(file_path, sr=sr)\n",
      "c:\\Projects\\AutoAudio\\test\\Lib\\site-packages\\librosa\\core\\audio.py:184: FutureWarning: librosa.core.audio.__audioread_load\n",
>>>>>>> main
      "\tDeprecated as of librosa version 0.10.0.\n",
      "\tIt will be removed in librosa version 1.0.\n",
      "  y, sr_native = __audioread_load(path, offset, duration, dtype)\n"
     ]
    },
    {
     "name": "stdout",
     "output_type": "stream",
     "text": [
      "Corrupted audio file: data/gtzan-dataset-music-genre-classification\\Data/genres_original\\jazz\\jazz.00054.wav\n",
      "Skipping this file\n",
      "Finished preprocessing files.\n",
      "Cuda not available. Not training transformer model.\n",
      "Training SVM\n",
      "SVM achieved 20.0% accuracy.\n",
      "Tuning best model hyperparameters.\n",
      "Fitting 5 folds for each of 10 candidates, totalling 50 fits\n",
      "Best parameters found: {'kernel': 'linear', 'gamma': 'scale', 'degree': 3, 'C': 1}\n",
      "Tuned SVM achieved 50.0% accuracy.\n",
      "Training KNN\n",
      "KNN achieved 32.5% accuracy.\n",
      "Tuning best model hyperparameters.\n",
      "Fitting 5 folds for each of 10 candidates, totalling 50 fits\n",
      "Best parameters found: {'weights': 'distance', 'n_neighbors': 7, 'metric': 'manhattan'}\n",
      "Tuned KNN achieved 27.500000000000004% accuracy.\n",
      "Tuning did not improve KNN. Keeping original.\n",
      "Training Gradient Boosting\n",
      "Gradient Boosting achieved 42.5% accuracy.\n",
      "Tuning best model hyperparameters.\n",
      "Fitting 5 folds for each of 10 candidates, totalling 50 fits\n",
      "Best parameters found: {'subsample': 1.0, 'n_estimators': 200, 'min_samples_split': 10, 'min_samples_leaf': 4, 'max_depth': 10, 'learning_rate': 0.05}\n",
      "Tuned Gradient Boosting achieved 37.5% accuracy.\n",
      "Tuning did not improve Gradient Boosting. Keeping original.\n",
      "Finished training.\n",
      "Best model is: SVM\n"
     ]
    }
   ],
   "source": [
<<<<<<< HEAD
    "from auto_audio_model import AutoAudioModel\n",
    "from hyperparameter_tuner import HyperparameterTuner\n",
    "\n",
    "df_train = df.sample(200, random_state=42)\n",
    "df_test = df.sample(100, random_state=42)\n",
    "model = AutoAudioModel()\n",
    "tuner = HyperparameterTuner(search_method=\"random\", n_iter=1)\n",
    "model.fit(df_train, 500, tuner)"
=======
    "from auto_audio.auto_audio_model import AutoAudioModel\n",
    "df_train = df.sample(200, random_state=42)\n",
    "df_test = df.sample(100, random_state=42)\n",
    "model = AutoAudioModel()\n",
    "model.fit(df_train, time_limit=600)"
>>>>>>> main
   ]
  },
  {
   "cell_type": "code",
   "execution_count": 6,
   "metadata": {},
   "outputs": [
    {
     "name": "stdout",
     "output_type": "stream",
     "text": [
      "Model Accuracy: 0.89\n"
     ]
    },
    {
     "data": {
      "image/png": "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",
      "text/plain": [
       "<Figure size 640x480 with 2 Axes>"
      ]
     },
     "metadata": {},
     "output_type": "display_data"
    }
   ],
   "source": [
    "from sklearn.metrics import confusion_matrix, ConfusionMatrixDisplay, accuracy_score\n",
    "import matplotlib.pyplot as plt\n",
    "import numpy as np\n",
    "\n",
    "y_test = df_test[\"label\"]\n",
    "y_pred = model.predict(df_test)\n",
    "\n",
    "accuracy = accuracy_score(y_test, y_pred)\n",
    "print(f\"Model Accuracy: {accuracy:.2f}\")\n",
    "\n",
    "cm = confusion_matrix(y_test, y_pred, labels=np.unique(y_test))\n",
    "disp = ConfusionMatrixDisplay(confusion_matrix=cm, display_labels=np.unique(y_test))\n",
    "disp.plot()\n",
    "plt.xticks(rotation=90)\n",
    "plt.show()"
   ]
  }
 ],
 "metadata": {
  "kernelspec": {
<<<<<<< HEAD
   "display_name": "Python 3",
=======
   "display_name": "test",
>>>>>>> main
   "language": "python",
   "name": "python3"
  },
  "language_info": {
   "codemirror_mode": {
    "name": "ipython",
    "version": 3
   },
   "file_extension": ".py",
   "mimetype": "text/x-python",
   "name": "python",
   "nbconvert_exporter": "python",
   "pygments_lexer": "ipython3",
   "version": "3.11.8"
  }
 },
 "nbformat": 4,
 "nbformat_minor": 2
}
