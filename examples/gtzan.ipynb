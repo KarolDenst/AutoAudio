{
 "cells": [
  {
   "cell_type": "markdown",
   "metadata": {},
   "source": [
    "### Description\n",
    "This Notebook shows how to train and use the library for music genre classification."
   ]
  },
  {
   "cell_type": "markdown",
   "metadata": {},
   "source": [
    "### Download data\n",
    "For this part you will need to have kaggle installed. `pip install kaggle`.\n",
    "Alternativaly you could download the dataset from `https://www.kaggle.com/datasets/andradaolteanu/gtzan-dataset-music-genre-classification` and manually extract it into `../data/gtzan-dataset-music-genre-classification`"
   ]
  },
  {
   "cell_type": "code",
   "execution_count": 1,
   "metadata": {},
   "outputs": [
    {
     "name": "stdout",
     "output_type": "stream",
     "text": [
      "Dataset already exists.\n"
     ]
    }
   ],
   "source": [
    "import os\n",
    "import subprocess\n",
    "\n",
    "dataset_path = \"data/gtzan-dataset-music-genre-classification\"\n",
    "\n",
    "if not os.path.exists(dataset_path):\n",
    "    print(\"Dataset not found. Downloading...\")\n",
    "    os.makedirs(dataset_path, exist_ok=True)\n",
    "    subprocess.run([\"kaggle\", \"datasets\", \"download\", \"-d\", \"andradaolteanu/gtzan-dataset-music-genre-classification\", \"-p\", dataset_path, \"--unzip\"])\n",
    "    print(\"Download complete.\")\n",
    "else:\n",
    "    print(\"Dataset already exists.\")"
   ]
  },
  {
   "cell_type": "markdown",
   "metadata": {},
   "source": [
    "### Data format\n",
    "We first have to create a dataframe which stores all the data (file paths and labels)"
   ]
  },
  {
   "cell_type": "code",
   "execution_count": 2,
   "metadata": {},
   "outputs": [],
   "source": [
    "import pandas as pd"
   ]
  },
  {
   "cell_type": "code",
   "execution_count": 3,
   "metadata": {},
   "outputs": [
    {
     "data": {
      "text/html": [
       "<div>\n",
       "<style scoped>\n",
       "    .dataframe tbody tr th:only-of-type {\n",
       "        vertical-align: middle;\n",
       "    }\n",
       "\n",
       "    .dataframe tbody tr th {\n",
       "        vertical-align: top;\n",
       "    }\n",
       "\n",
       "    .dataframe thead th {\n",
       "        text-align: right;\n",
       "    }\n",
       "</style>\n",
       "<table border=\"1\" class=\"dataframe\">\n",
       "  <thead>\n",
       "    <tr style=\"text-align: right;\">\n",
       "      <th></th>\n",
       "      <th>file_path</th>\n",
       "      <th>label</th>\n",
       "    </tr>\n",
       "  </thead>\n",
       "  <tbody>\n",
       "    <tr>\n",
       "      <th>395</th>\n",
       "      <td>data/gtzan-dataset-music-genre-classification\\...</td>\n",
       "      <td>disco</td>\n",
       "    </tr>\n",
       "    <tr>\n",
       "      <th>136</th>\n",
       "      <td>data/gtzan-dataset-music-genre-classification\\...</td>\n",
       "      <td>classical</td>\n",
       "    </tr>\n",
       "    <tr>\n",
       "      <th>179</th>\n",
       "      <td>data/gtzan-dataset-music-genre-classification\\...</td>\n",
       "      <td>classical</td>\n",
       "    </tr>\n",
       "    <tr>\n",
       "      <th>63</th>\n",
       "      <td>data/gtzan-dataset-music-genre-classification\\...</td>\n",
       "      <td>blues</td>\n",
       "    </tr>\n",
       "    <tr>\n",
       "      <th>918</th>\n",
       "      <td>data/gtzan-dataset-music-genre-classification\\...</td>\n",
       "      <td>rock</td>\n",
       "    </tr>\n",
       "  </tbody>\n",
       "</table>\n",
       "</div>"
      ],
      "text/plain": [
       "                                             file_path      label\n",
       "395  data/gtzan-dataset-music-genre-classification\\...      disco\n",
       "136  data/gtzan-dataset-music-genre-classification\\...  classical\n",
       "179  data/gtzan-dataset-music-genre-classification\\...  classical\n",
       "63   data/gtzan-dataset-music-genre-classification\\...      blues\n",
       "918  data/gtzan-dataset-music-genre-classification\\...       rock"
      ]
     },
     "execution_count": 3,
     "metadata": {},
     "output_type": "execute_result"
    }
   ],
   "source": [
    "genres_path = os.path.join(dataset_path, \"Data/genres_original\")\n",
    "paths = []\n",
    "labels = []\n",
    "for genre in os.listdir(genres_path):\n",
    "    folder_path = os.path.join(genres_path, genre)\n",
    "    for filename in os.listdir(folder_path):\n",
    "        paths.append(os.path.join(folder_path, filename))\n",
    "        labels.append(genre)\n",
    "df = pd.DataFrame({\"file_path\": paths, \"label\": labels})\n",
    "df.sample(5)"
   ]
  },
  {
   "cell_type": "markdown",
   "metadata": {},
   "source": [
    "### Model training"
   ]
  },
  {
   "cell_type": "code",
   "execution_count": 5,
   "metadata": {},
   "outputs": [
    {
     "name": "stdout",
     "output_type": "stream",
     "text": [
      "Preprocessing audio files.\n"
     ]
    },
    {
     "name": "stderr",
     "output_type": "stream",
     "text": [
      "C:\\Projects\\AutoAudio\\auto_audio\\preprocessing.py:54: UserWarning: PySoundFile failed. Trying audioread instead.\n",
      "  y, sr = librosa.load(file_path, sr=sr)\n",
      "c:\\Projects\\AutoAudio\\test\\Lib\\site-packages\\librosa\\core\\audio.py:184: FutureWarning: librosa.core.audio.__audioread_load\n",
      "\tDeprecated as of librosa version 0.10.0.\n",
      "\tIt will be removed in librosa version 1.0.\n",
      "  y, sr_native = __audioread_load(path, offset, duration, dtype)\n"
     ]
    },
    {
     "name": "stdout",
     "output_type": "stream",
     "text": [
      "Corrupted audio file: data/gtzan-dataset-music-genre-classification\\Data/genres_original\\jazz\\jazz.00054.wav\n",
      "Skipping this file\n",
      "Finished preprocessing files.\n",
      "Cuda not available. Not training transformer model.\n",
      "Training SVM\n",
      "SVM achieved 20.0% accuracy.\n",
      "Training KNN\n",
      "KNN achieved 32.5% accuracy.\n",
      "Training Gradient Boosting\n",
      "Gradient Boosting achieved 42.5% accuracy.\n",
      "Finished training.\n",
      "Best model is: Gradient Boosting\n"
     ]
    }
   ],
   "source": [
    "from auto_audio.auto_audio_model import AutoAudioModel\n",
    "df_train = df.sample(200, random_state=42)\n",
    "df_test = df.sample(100, random_state=42)\n",
    "model = AutoAudioModel()\n",
    "model.fit(df_train, time_limit=600)"
   ]
  },
  {
   "cell_type": "code",
   "execution_count": 6,
   "metadata": {},
   "outputs": [
    {
     "name": "stdout",
     "output_type": "stream",
     "text": [
      "Model Accuracy: 0.88\n"
     ]
    },
    {
     "data": {
      "image/png": "[encoded data removed]",
      "text/plain": [
       "<Figure size 640x480 with 2 Axes>"
      ]
     },
     "metadata": {},
     "output_type": "display_data"
    }
   ],
   "source": [
    "from sklearn.metrics import confusion_matrix, ConfusionMatrixDisplay, accuracy_score\n",
    "import matplotlib.pyplot as plt\n",
    "import numpy as np\n",
    "\n",
    "y_test = df_test[\"label\"]\n",
    "y_pred = model.predict(df_test)\n",
    "\n",
    "accuracy = accuracy_score(y_test, y_pred)\n",
    "print(f\"Model Accuracy: {accuracy:.2f}\")\n",
    "\n",
    "cm = confusion_matrix(y_test, y_pred, labels=np.unique(y_test))\n",
    "disp = ConfusionMatrixDisplay(confusion_matrix=cm, display_labels=np.unique(y_test))\n",
    "disp.plot()\n",
    "plt.xticks(rotation=90)\n",
    "plt.show()"
   ]
  }
 ],
 "metadata": {
  "kernelspec": {
   "display_name": "test",
   "language": "python",
   "name": "python3"
  },
  "language_info": {
   "codemirror_mode": {
    "name": "ipython",
    "version": 3
   },
   "file_extension": ".py",
   "mimetype": "text/x-python",
   "name": "python",
   "nbconvert_exporter": "python",
   "pygments_lexer": "ipython3",
   "version": "3.12.4"
  }
 },
 "nbformat": 4,
 "nbformat_minor": 2
}
